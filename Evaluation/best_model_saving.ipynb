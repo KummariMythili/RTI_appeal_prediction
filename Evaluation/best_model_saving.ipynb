{
 "cells": [
  {
   "cell_type": "code",
   "execution_count": 3,
   "id": "43a45771",
   "metadata": {},
   "outputs": [
    {
     "name": "stdout",
     "output_type": "stream",
     "text": [
      "✅ Preprocessed Data Loaded: (2500, 7)\n",
      "✅ Random Forest pipeline trained successfully.\n",
      "✅ Model saved to 'App/model/model.pkl'\n"
     ]
    }
   ],
   "source": [
    "# 📌 Step 1: Import Libraries\n",
    "import pandas as pd\n",
    "import os\n",
    "import joblib\n",
    "\n",
    "from sklearn.model_selection import train_test_split\n",
    "from sklearn.ensemble import RandomForestClassifier\n",
    "from sklearn.feature_extraction.text import TfidfVectorizer\n",
    "from sklearn.pipeline import Pipeline\n",
    "from sklearn.compose import ColumnTransformer\n",
    "\n",
    "# 📌 Step 2: Load Data\n",
    "df = pd.read_csv('../Data/preprocessed_data.csv')\n",
    "print(\"✅ Preprocessed Data Loaded:\", df.shape)\n",
    "\n",
    "# 📌 Step 3: Split Features and Target\n",
    "X = df.drop('Appeal_Category', axis=1)\n",
    "y = df['Appeal_Category']\n",
    "\n",
    "# 📌 Step 4: Columns\n",
    "text_column = 'Appeal_Text'\n",
    "numerical_cols = [col for col in X.columns if col != text_column]\n",
    "\n",
    "# 📌 Step 5: Define Preprocessor\n",
    "preprocessor = ColumnTransformer(\n",
    "    transformers=[\n",
    "        ('text', TfidfVectorizer(max_features=300), text_column),\n",
    "        ('num', 'passthrough', numerical_cols)\n",
    "    ]\n",
    ")\n",
    "\n",
    "# 📌 Step 6: Create Pipeline with Random Forest\n",
    "pipeline = Pipeline([\n",
    "    ('preprocess', preprocessor),\n",
    "    ('model', RandomForestClassifier())\n",
    "])\n",
    "\n",
    "# 📌 Step 7: Train Pipeline\n",
    "pipeline.fit(X, y)\n",
    "print(\"✅ Random Forest pipeline trained successfully.\")\n",
    "\n",
    "# 📌 Step 8: Save Model\n",
    "os.makedirs('../App/model', exist_ok=True)\n",
    "joblib.dump(pipeline, '../App/model/model.pkl')\n",
    "print(\"✅ Model saved to 'App/model/model.pkl'\")\n"
   ]
  }
 ],
 "metadata": {
  "kernelspec": {
   "display_name": "rti_env",
   "language": "python",
   "name": "python3"
  },
  "language_info": {
   "codemirror_mode": {
    "name": "ipython",
    "version": 3
   },
   "file_extension": ".py",
   "mimetype": "text/x-python",
   "name": "python",
   "nbconvert_exporter": "python",
   "pygments_lexer": "ipython3",
   "version": "3.10.18"
  }
 },
 "nbformat": 4,
 "nbformat_minor": 5
}
