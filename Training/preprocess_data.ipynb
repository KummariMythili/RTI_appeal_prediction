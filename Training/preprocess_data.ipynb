{
 "cells": [
  {
   "cell_type": "code",
   "execution_count": 4,
   "id": "c8b02377",
   "metadata": {},
   "outputs": [
    {
     "name": "stdout",
     "output_type": "stream",
     "text": [
      "✅ Dataset Loaded. Shape: (2500, 8)\n",
      "✅ After Dropping NA. Shape: (2500, 7)\n",
      "✅ Preprocessed data saved to 'Data/preprocessed_data.csv'\n"
     ]
    }
   ],
   "source": [
    "# 📌 Step 1: Import Libraries\n",
    "import pandas as pd\n",
    "import numpy as np\n",
    "import os\n",
    "\n",
    "from sklearn.preprocessing import LabelEncoder\n",
    "\n",
    "# 📌 Step 2: Load Dataset\n",
    "df = pd.read_csv('../Data/raw_data.csv')\n",
    "print(\"✅ Dataset Loaded. Shape:\", df.shape)\n",
    "\n",
    "# 📌 Step 3: Drop Unnecessary Columns\n",
    "if 'Appeal_ID' in df.columns:\n",
    "    df.drop('Appeal_ID', axis=1, inplace=True)\n",
    "\n",
    "# 📌 Step 4: Handle Missing Values\n",
    "df.dropna(inplace=True)\n",
    "print(\"✅ After Dropping NA. Shape:\", df.shape)\n",
    "\n",
    "# 📌 Step 5: Encode Date (convert to numerical days)\n",
    "df['Appeal_Date'] = pd.to_datetime(df['Appeal_Date'], errors='coerce')\n",
    "df['Appeal_Date'] = df['Appeal_Date'].map(lambda x: x.toordinal())\n",
    "\n",
    "# 📌 Step 6: Label Encode Categorical Columns\n",
    "label_encoders = {}\n",
    "categorical_cols = ['Applicant_Gender', 'Department_Name', 'Language', 'Appeal_Type']\n",
    "\n",
    "for col in categorical_cols:\n",
    "    le = LabelEncoder()\n",
    "    df[col] = le.fit_transform(df[col])\n",
    "    label_encoders[col] = le\n",
    "\n",
    "# 📌 Step 7: Encode Target Column (Appeal_Category)\n",
    "target_encoder = LabelEncoder()\n",
    "df['Appeal_Category'] = target_encoder.fit_transform(df['Appeal_Category'])\n",
    "\n",
    "# (Optional) Save encoders if needed later\n",
    "import joblib\n",
    "os.makedirs('../App/model', exist_ok=True)\n",
    "joblib.dump(label_encoders, '../App/model/label_encoders.pkl')\n",
    "joblib.dump(target_encoder, '../App/model/target_encoder.pkl')\n",
    "\n",
    "# 📌 Step 8: Save Preprocessed Data\n",
    "os.makedirs('../Data', exist_ok=True)\n",
    "df.to_csv('../Data/preprocessed_data.csv', index=False)\n",
    "print(\"✅ Preprocessed data saved to 'Data/preprocessed_data.csv'\")\n"
   ]
  }
 ],
 "metadata": {
  "kernelspec": {
   "display_name": "rti_env",
   "language": "python",
   "name": "python3"
  },
  "language_info": {
   "codemirror_mode": {
    "name": "ipython",
    "version": 3
   },
   "file_extension": ".py",
   "mimetype": "text/x-python",
   "name": "python",
   "nbconvert_exporter": "python",
   "pygments_lexer": "ipython3",
   "version": "3.10.18"
  }
 },
 "nbformat": 4,
 "nbformat_minor": 5
}
